{
 "cells": [
  {
   "cell_type": "markdown",
   "metadata": {},
   "source": [
    "### Практическое задание №6"
   ]
  },
  {
   "cell_type": "markdown",
   "metadata": {},
   "source": [
    "##### 1.\n",
    "Решите линейную систему:"
   ]
  },
  {
   "cell_type": "code",
   "execution_count": 5,
   "metadata": {},
   "outputs": [],
   "source": [
    "import numpy as np"
   ]
  },
  {
   "cell_type": "code",
   "execution_count": 6,
   "metadata": {},
   "outputs": [
    {
     "data": {
      "text/plain": [
       "array([-9.2       ,  0.9       ,  6.46666667])"
      ]
     },
     "execution_count": 6,
     "metadata": {},
     "output_type": "execute_result"
    }
   ],
   "source": [
    "A = np.array([[1,2,3],[4,0,6],[7,8,9]])\n",
    "B = np.array([12,2,1])\n",
    "np.linalg.solve(A,B)"
   ]
  },
  {
   "cell_type": "markdown",
   "metadata": {},
   "source": [
    "##### 2.\n",
    "Найдите псевдорешение:"
   ]
  },
  {
   "cell_type": "markdown",
   "metadata": {},
   "source": [
    "x + 2y – z = 1\n",
    "\n",
    "3x – 4y = 7\n",
    "\n",
    "8x – 5y + 2z = 12\n",
    "\n",
    "2x – 5z = 7\n",
    "\n",
    "11x +4y – 7z = 15"
   ]
  },
  {
   "cell_type": "code",
   "execution_count": 8,
   "metadata": {},
   "outputs": [
    {
     "data": {
      "text/plain": [
       "(array([ 1.15601029, -0.889718  , -0.85029782]),\n",
       " array([0.66772534]),\n",
       " 3,\n",
       " array([14.89650167, 10.4695886 ,  2.73531577]))"
      ]
     },
     "execution_count": 8,
     "metadata": {},
     "output_type": "execute_result"
    }
   ],
   "source": [
    "A = np.array([[1,2,-1],[3,-4,0],[8,-5,2],[2,-5,0],[11,4,-7]])\n",
    "B = np.array([1,7,12,7,15])\n",
    "np.linalg.lstsq(A,B, rcond=None)"
   ]
  },
  {
   "cell_type": "markdown",
   "metadata": {},
   "source": [
    "##### 3.\n",
    "Сколько решений имеет линейная система:"
   ]
  },
  {
   "cell_type": "code",
   "execution_count": 9,
   "metadata": {},
   "outputs": [
    {
     "data": {
      "text/plain": [
       "2"
      ]
     },
     "execution_count": 9,
     "metadata": {},
     "output_type": "execute_result"
    }
   ],
   "source": [
    "k = np.array([[1, 2, 3], [4, 5, 6], [7, 8, 9]])\n",
    "b = np.array([12, 2, 1])\n",
    "np.linalg.matrix_rank(k)"
   ]
  },
  {
   "cell_type": "markdown",
   "metadata": {},
   "source": [
    "Система имеет бесконечно много решений"
   ]
  },
  {
   "cell_type": "markdown",
   "metadata": {},
   "source": [
    "##### 4.\n",
    "Вычислите LU-разложение матрицы :"
   ]
  },
  {
   "cell_type": "code",
   "execution_count": 13,
   "metadata": {},
   "outputs": [],
   "source": [
    "import scipy\n",
    "import scipy.linalg"
   ]
  },
  {
   "cell_type": "code",
   "execution_count": 14,
   "metadata": {},
   "outputs": [
    {
     "name": "stdout",
     "output_type": "stream",
     "text": [
      "[[0. 1. 0.]\n",
      " [0. 0. 1.]\n",
      " [1. 0. 0.]]\n",
      "[[ 1.    0.    0.  ]\n",
      " [ 0.25  1.    0.  ]\n",
      " [ 0.5  -0.4   1.  ]]\n",
      "[[  4.    28.    73.  ]\n",
      " [  0.    -5.   -15.25]\n",
      " [  0.     0.   -21.6 ]]\n"
     ]
    }
   ],
   "source": [
    "A = np.array([ [1,2,3], [2,16,21], [4,28,73] ])\n",
    "P, L, U = scipy.linalg.lu(A)\n",
    "\n",
    "print(P)\n",
    "print(L)\n",
    "print(U)"
   ]
  },
  {
   "cell_type": "markdown",
   "metadata": {},
   "source": [
    "После этого придумайте вектор правых частей и решите полученную линейную систему трех\n",
    "уравнений с данной матрицей."
   ]
  },
  {
   "cell_type": "code",
   "execution_count": 15,
   "metadata": {},
   "outputs": [
    {
     "data": {
      "text/plain": [
       "array([ 3.2962963 ,  0.24074074, -0.25925926])"
      ]
     },
     "execution_count": 15,
     "metadata": {},
     "output_type": "execute_result"
    }
   ],
   "source": [
    "B = np.array([3, 5, 1])\n",
    "np.linalg.solve(A, B)"
   ]
  },
  {
   "cell_type": "markdown",
   "metadata": {},
   "source": [
    "##### 5.\n",
    "Найдите нормальное псевдорешение недоопределенной системы:"
   ]
  },
  {
   "cell_type": "code",
   "execution_count": 16,
   "metadata": {},
   "outputs": [
    {
     "data": {
      "text/plain": [
       "(array([ 1.38191882, -0.18081181,  0.0202952 ]),\n",
       " array([], dtype=float64),\n",
       " 2,\n",
       " array([9.65316119, 2.41173777]))"
      ]
     },
     "execution_count": 16,
     "metadata": {},
     "output_type": "execute_result"
    }
   ],
   "source": [
    "A = np.array([[1, 2, -1], [8, -5, 2]])\n",
    "B = np.array([1, 12])\n",
    "np.linalg.lstsq(A, B, rcond=None)"
   ]
  },
  {
   "cell_type": "code",
   "execution_count": 20,
   "metadata": {},
   "outputs": [],
   "source": [
    "def Q(x, y):\n",
    "    return (x**2 + y**2 + z**2)"
   ]
  },
  {
   "cell_type": "markdown",
   "metadata": {},
   "source": [
    "##### 6.\n",
    "Найдите одно из псевдорешений вырожденной системы:"
   ]
  },
  {
   "cell_type": "code",
   "execution_count": 21,
   "metadata": {},
   "outputs": [
    {
     "name": "stdout",
     "output_type": "stream",
     "text": [
      "[[1 2 3]\n",
      " [4 5 6]\n",
      " [7 8 9]]\n",
      "[[-0.12309149  0.90453403  0.40824829]\n",
      " [-0.49236596  0.30151134 -0.81649658]\n",
      " [-0.86164044 -0.30151134  0.40824829]]\n",
      "[[-8.12403840e+00 -9.60113630e+00 -1.10782342e+01]\n",
      " [ 0.00000000e+00  9.04534034e-01  1.80906807e+00]\n",
      " [ 0.00000000e+00  0.00000000e+00 -1.77635684e-15]]\n"
     ]
    }
   ],
   "source": [
    "A = np.array([ [1, 2, 3], [4, 5, 6], [7, 8, 9] ])\n",
    "B = np.array([2, 5, 11])\n",
    "Q, R = np.linalg.qr(A)\n",
    "\n",
    "print(A)\n",
    "print(Q)\n",
    "print(R)"
   ]
  },
  {
   "cell_type": "code",
   "execution_count": 22,
   "metadata": {},
   "outputs": [
    {
     "data": {
      "text/plain": [
       "array([[-8.1240384 , -9.6011363 ],\n",
       "       [ 0.        ,  0.90453403]])"
      ]
     },
     "execution_count": 22,
     "metadata": {},
     "output_type": "execute_result"
    }
   ],
   "source": [
    "R1 = R[:2, :2]\n",
    "R1"
   ]
  },
  {
   "cell_type": "code",
   "execution_count": 23,
   "metadata": {},
   "outputs": [
    {
     "data": {
      "text/plain": [
       "array([-1.21860576e+01,  8.43769499e-15])"
      ]
     },
     "execution_count": 23,
     "metadata": {},
     "output_type": "execute_result"
    }
   ],
   "source": [
    "B1 = np.dot(np.transpose(Q), B)[:2]\n",
    "B1"
   ]
  },
  {
   "cell_type": "code",
   "execution_count": 24,
   "metadata": {},
   "outputs": [
    {
     "data": {
      "text/plain": [
       "array([1.50000000e+00, 9.32822279e-15])"
      ]
     },
     "execution_count": 24,
     "metadata": {},
     "output_type": "execute_result"
    }
   ],
   "source": [
    "X1 = np.linalg.solve(R1, B1)\n",
    "X1"
   ]
  },
  {
   "cell_type": "code",
   "execution_count": 25,
   "metadata": {},
   "outputs": [
    {
     "name": "stdout",
     "output_type": "stream",
     "text": [
      "[1.50000000e+00 9.32822279e-15 0.00000000e+00]\n"
     ]
    },
    {
     "data": {
      "text/plain": [
       "1.4999999999999896"
      ]
     },
     "execution_count": 25,
     "metadata": {},
     "output_type": "execute_result"
    }
   ],
   "source": [
    "X = np.append(X1, 0)\n",
    "print (X)\n",
    "np.linalg.norm(X)"
   ]
  },
  {
   "cell_type": "code",
   "execution_count": 26,
   "metadata": {},
   "outputs": [
    {
     "data": {
      "text/plain": [
       "1.2247448713915894"
      ]
     },
     "execution_count": 26,
     "metadata": {},
     "output_type": "execute_result"
    }
   ],
   "source": [
    "np.linalg.norm(np.dot(A, X) - B)"
   ]
  },
  {
   "cell_type": "code",
   "execution_count": 27,
   "metadata": {},
   "outputs": [
    {
     "name": "stderr",
     "output_type": "stream",
     "text": [
      "<ipython-input-27-944d399805d8>:3: FutureWarning: `rcond` parameter will change to the default of machine precision times ``max(M, N)`` where M and N are the input matrix dimensions.\n",
      "To use the future default and silence this warning we advise to pass `rcond=None`, to keep using the old, explicitly pass `rcond=-1`.\n",
      "  np.linalg.lstsq(A, B)\n"
     ]
    },
    {
     "data": {
      "text/plain": [
       "(array([ 1.25,  0.5 , -0.25]),\n",
       " array([], dtype=float64),\n",
       " 2,\n",
       " array([1.68481034e+01, 1.06836951e+00, 1.47280825e-16]))"
      ]
     },
     "execution_count": 27,
     "metadata": {},
     "output_type": "execute_result"
    }
   ],
   "source": [
    "A = np.array([[1, 2, 3], [4, 5, 6], [7, 8, 9]])\n",
    "B = np.array([2, 5, 11])\n",
    "np.linalg.lstsq(A, B)"
   ]
  },
  {
   "cell_type": "code",
   "execution_count": null,
   "metadata": {},
   "outputs": [],
   "source": []
  }
 ],
 "metadata": {
  "kernelspec": {
   "display_name": "Python 3",
   "language": "python",
   "name": "python3"
  },
  "language_info": {
   "codemirror_mode": {
    "name": "ipython",
    "version": 3
   },
   "file_extension": ".py",
   "mimetype": "text/x-python",
   "name": "python",
   "nbconvert_exporter": "python",
   "pygments_lexer": "ipython3",
   "version": "3.8.3"
  }
 },
 "nbformat": 4,
 "nbformat_minor": 4
}
